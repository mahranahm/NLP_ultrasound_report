{
 "cells": [
  {
   "cell_type": "markdown",
   "metadata": {},
   "source": [
    "# Cleaning surgical reports notebook\n",
    "Notebook that explores the best way of extracting the procedure text from the surgical reports"
   ]
  },
  {
   "cell_type": "code",
   "execution_count": null,
   "metadata": {},
   "outputs": [],
   "source": [
    "import os\n",
    "cwd = os.getcwd()\n",
    "surgical_folder_text_path = os.path.join(cwd, \"..\", \"data\", \"raw_data\", \"txt\", \"surgical\")\n",
    "test_file_path = os.path.join(cwd, surgical_folder_text_path, \"168 O.txt\")\n",
    "# Print a test file\n",
    "with open(test_file_path, \"r\") as f:\n",
    "    print(f.read())"
   ]
  },
  {
   "cell_type": "markdown",
   "metadata": {},
   "source": [
    "Do all the text files have a procedure section that starts with `OPERATIVE PROCEDURE:\"` and end with `Dictated`? "
   ]
  },
  {
   "cell_type": "code",
   "execution_count": null,
   "metadata": {},
   "outputs": [],
   "source": [
    "# Do all the text files have a procedure section that starts with \"OPERATIVE PROCEDURE:\"?\n",
    "surgical_reports_path = [\n",
    "    os.path.join(surgical_folder_text_path, filename) \n",
    "    for filename in os.listdir(surgical_folder_text_path) if filename.endswith(\".txt\")\n",
    "    ]\n",
    "number_surgical_reports = len(surgical_reports_path)\n",
    "count = 0\n",
    "start_marker = \"OPERATIVE PROCEDURE\"\n",
    "# end_marker = \"Dictated\"\n",
    "for i, surgical_report_path in enumerate(surgical_reports_path):\n",
    "    with open(surgical_report_path, \"r\") as f:\n",
    "        surgical_report_text = f.read()\n",
    "    if start_marker.lower() in surgical_report_text.lower():\n",
    "        count += 1\n",
    "print(count, number_surgical_reports)\n",
    "        "
   ]
  },
  {
   "cell_type": "code",
   "execution_count": null,
   "metadata": {},
   "outputs": [],
   "source": [
    "with open(surgical_reports_path[i], \"r\") as f:\n",
    "    print(f.read())"
   ]
  },
  {
   "cell_type": "code",
   "execution_count": null,
   "metadata": {},
   "outputs": [],
   "source": [
    "print(number_surgical_reports)\n",
    "print(count)"
   ]
  },
  {
   "cell_type": "markdown",
   "metadata": {},
   "source": [
    "## Cropping for easier text extraction?\n",
    "Can we first crop the surgical reports such that the text extraction is easier? *Note: This assumes that the surgical reports are in `NLP_ultrasound_report/data/raw_data/png/surgical`*"
   ]
  },
  {
   "cell_type": "code",
   "execution_count": null,
   "metadata": {},
   "outputs": [],
   "source": [
    "import os\n",
    "cwd = os.getcwd()\n",
    "surgical_folder_png_path = os.path.join(cwd, \"..\", \"data\", \"raw_data\", \"png\", \"surgical\")\n",
    "test_file_path = os.path.join(cwd, surgical_folder_png_path, \"180 O_0.png\")"
   ]
  },
  {
   "cell_type": "markdown",
   "metadata": {},
   "source": [
    "Try cropping and then text extraction."
   ]
  },
  {
   "cell_type": "code",
   "execution_count": null,
   "metadata": {},
   "outputs": [],
   "source": [
    "from PIL import Image\n",
    "import time\n",
    "import pytesseract\n",
    "\n",
    "# This goes through each image in the surgical folder, crops it and extracts the text from it\n",
    "for path in os.listdir(surgical_folder_png_path):\n",
    "    # Only selects pngs that end with 0.png\n",
    "    if path.endswith(\"0.png\"):\n",
    "        print(f\"Cropping {path}\")\n",
    "        im = Image.open(os.path.join(surgical_folder_png_path, path))\n",
    "        # Original image dimensions\n",
    "        width, height = im.size\n",
    "        # Cropping dimensions, play around with this\n",
    "        right = width\n",
    "        left = 0\n",
    "        bottom = height - height/10\n",
    "        top = height/2\n",
    "        # Crop the image\n",
    "        im_cropped = im.crop((left, top, right, bottom))\n",
    "        # Show the cropped image\n",
    "        im_cropped.show()\n",
    "        # Get the extracted text\n",
    "        extracted_text = pytesseract.image_to_string(im_cropped)\n",
    "        print(\"Extracted text: \", extracted_text)\n",
    "        # Wait 5 seconds before continuing\n",
    "        time.sleep(5)"
   ]
  },
  {
   "cell_type": "markdown",
   "metadata": {},
   "source": [
    "Cropping would make things much easier *if* we know which ids are what type. If we do then we can create a cropping mapping for different ids. So we need to find the ideal cropping size and different cropping rules for different types of reports."
   ]
  },
  {
   "cell_type": "code",
   "execution_count": null,
   "metadata": {},
   "outputs": [],
   "source": [
    "from PIL import Image\n",
    "import time\n",
    "\n",
    "# Same process as above but with the second page of the png i.e. pngs\n",
    "# that end with 1\n",
    "for path in os.listdir(surgical_folder_png_path):\n",
    "    if path.endswith(\"1.png\"):\n",
    "        print(f\"Cropping {path}\")\n",
    "        im = Image.open(os.path.join(surgical_folder_png_path, path))\n",
    "        width, height = im.size\n",
    "        right = width\n",
    "        left = 0\n",
    "        bottom = height - height/10\n",
    "        top = height/5\n",
    "        im_cropped = im.crop((left, top, right, bottom))\n",
    "        im_cropped.show()\n",
    "        pytesseract.image_to_string(im_cropped)\n",
    "        time.sleep(5)\n",
    "        "
   ]
  },
  {
   "cell_type": "markdown",
   "metadata": {},
   "source": [
    "Appears promising, try some extraction with this to see if text is easier to extract."
   ]
  }
 ],
 "metadata": {
  "interpreter": {
   "hash": "6c6eee154cf23ccd188b1225944eddbdef9dcaacb443e60789f0b9c633324e67"
  },
  "kernelspec": {
   "display_name": "Python 3.9.7 ('ultrasound')",
   "language": "python",
   "name": "python3"
  },
  "language_info": {
   "codemirror_mode": {
    "name": "ipython",
    "version": 3
   },
   "file_extension": ".py",
   "mimetype": "text/x-python",
   "name": "python",
   "nbconvert_exporter": "python",
   "pygments_lexer": "ipython3",
   "version": "3.9.7"
  },
  "orig_nbformat": 4
 },
 "nbformat": 4,
 "nbformat_minor": 2
}
